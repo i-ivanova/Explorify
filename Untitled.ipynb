{
 "cells": [
  {
   "cell_type": "code",
   "execution_count": 8,
   "metadata": {},
   "outputs": [],
   "source": [
    "import numpy as np\n",
    "import pandas as pd\n",
    "import matplotlib.pyplot as plt\n",
    "import datetime as dt\n",
    "import os\n",
    "import json"
   ]
  },
  {
   "cell_type": "code",
   "execution_count": 9,
   "metadata": {},
   "outputs": [
    {
     "data": {
      "text/html": [
       "<div>\n",
       "<style scoped>\n",
       "    .dataframe tbody tr th:only-of-type {\n",
       "        vertical-align: middle;\n",
       "    }\n",
       "\n",
       "    .dataframe tbody tr th {\n",
       "        vertical-align: top;\n",
       "    }\n",
       "\n",
       "    .dataframe thead th {\n",
       "        text-align: right;\n",
       "    }\n",
       "</style>\n",
       "<table border=\"1\" class=\"dataframe\">\n",
       "  <thead>\n",
       "    <tr style=\"text-align: right;\">\n",
       "      <th></th>\n",
       "      <th>endTime</th>\n",
       "      <th>artistName</th>\n",
       "      <th>trackName</th>\n",
       "      <th>msPlayed</th>\n",
       "    </tr>\n",
       "  </thead>\n",
       "  <tbody>\n",
       "    <tr>\n",
       "      <th>0</th>\n",
       "      <td>2020-01-08 23:42</td>\n",
       "      <td>Tina Turner</td>\n",
       "      <td>What's Love Got to Do with It</td>\n",
       "      <td>169338</td>\n",
       "    </tr>\n",
       "    <tr>\n",
       "      <th>1</th>\n",
       "      <td>2020-09-27 10:37</td>\n",
       "      <td>Strapping Young Lad</td>\n",
       "      <td>Love?</td>\n",
       "      <td>10855</td>\n",
       "    </tr>\n",
       "    <tr>\n",
       "      <th>2</th>\n",
       "      <td>2020-10-02 12:06</td>\n",
       "      <td>Dirty Projectors</td>\n",
       "      <td>What Is The Time</td>\n",
       "      <td>1400</td>\n",
       "    </tr>\n",
       "    <tr>\n",
       "      <th>3</th>\n",
       "      <td>2020-10-02 12:10</td>\n",
       "      <td>Dirty Projectors</td>\n",
       "      <td>What Is The Time</td>\n",
       "      <td>195416</td>\n",
       "    </tr>\n",
       "    <tr>\n",
       "      <th>4</th>\n",
       "      <td>2020-10-02 12:13</td>\n",
       "      <td>Sufjan Stevens</td>\n",
       "      <td>All of Me Wants All of You</td>\n",
       "      <td>221258</td>\n",
       "    </tr>\n",
       "    <tr>\n",
       "      <th>5</th>\n",
       "      <td>2020-10-02 12:18</td>\n",
       "      <td>Lana Del Rey</td>\n",
       "      <td>The greatest</td>\n",
       "      <td>299395</td>\n",
       "    </tr>\n",
       "    <tr>\n",
       "      <th>6</th>\n",
       "      <td>2020-10-02 12:21</td>\n",
       "      <td>Superorganism</td>\n",
       "      <td>Relax</td>\n",
       "      <td>125923</td>\n",
       "    </tr>\n",
       "    <tr>\n",
       "      <th>7</th>\n",
       "      <td>2020-10-02 12:24</td>\n",
       "      <td>Superorganism</td>\n",
       "      <td>The Prawn Song</td>\n",
       "      <td>195358</td>\n",
       "    </tr>\n",
       "    <tr>\n",
       "      <th>8</th>\n",
       "      <td>2020-10-02 12:24</td>\n",
       "      <td>Swans</td>\n",
       "      <td>Some Things We Do</td>\n",
       "      <td>0</td>\n",
       "    </tr>\n",
       "    <tr>\n",
       "      <th>9</th>\n",
       "      <td>2020-10-02 12:24</td>\n",
       "      <td>Tune-Yards</td>\n",
       "      <td>Look at Your Hands</td>\n",
       "      <td>34916</td>\n",
       "    </tr>\n",
       "  </tbody>\n",
       "</table>\n",
       "</div>"
      ],
      "text/plain": [
       "            endTime           artistName                      trackName  \\\n",
       "0  2020-01-08 23:42          Tina Turner  What's Love Got to Do with It   \n",
       "1  2020-09-27 10:37  Strapping Young Lad                          Love?   \n",
       "2  2020-10-02 12:06     Dirty Projectors               What Is The Time   \n",
       "3  2020-10-02 12:10     Dirty Projectors               What Is The Time   \n",
       "4  2020-10-02 12:13       Sufjan Stevens     All of Me Wants All of You   \n",
       "5  2020-10-02 12:18         Lana Del Rey                   The greatest   \n",
       "6  2020-10-02 12:21        Superorganism                          Relax   \n",
       "7  2020-10-02 12:24        Superorganism                 The Prawn Song   \n",
       "8  2020-10-02 12:24                Swans              Some Things We Do   \n",
       "9  2020-10-02 12:24           Tune-Yards             Look at Your Hands   \n",
       "\n",
       "   msPlayed  \n",
       "0    169338  \n",
       "1     10855  \n",
       "2      1400  \n",
       "3    195416  \n",
       "4    221258  \n",
       "5    299395  \n",
       "6    125923  \n",
       "7    195358  \n",
       "8         0  \n",
       "9     34916  "
      ]
     },
     "execution_count": 9,
     "metadata": {},
     "output_type": "execute_result"
    }
   ],
   "source": [
    "# Create URL to JSON file (alternatively this can be a filepath)\n",
    "json_file = './data/Jonatan_data/StreamingHistory0.json'\n",
    "\n",
    "# Load the first sheet of the JSON file into a data frame\n",
    "df = pd.read_json(json_file, orient='columns')\n",
    "\n",
    "# View the first ten rows\n",
    "df.head(10)"
   ]
  },
  {
   "cell_type": "code",
   "execution_count": 10,
   "metadata": {},
   "outputs": [],
   "source": [
    "## filter tracks by msPlayed\n",
    "threshold = 10000  # 10 seconds\n",
    "fully_listened = df.loc[df['msPlayed'] >= threshold] \n",
    "skipped = df.loc[df['msPlayed'] < threshold] "
   ]
  },
  {
   "cell_type": "code",
   "execution_count": 11,
   "metadata": {},
   "outputs": [
    {
     "name": "stdout",
     "output_type": "stream",
     "text": [
      "Fully listened to 85.95% \n",
      "Total number of tracks 6887\n",
      "\n",
      "Skipped to 14.05% \n",
      "Total number of tracks 1126\n"
     ]
    }
   ],
   "source": [
    "# ratio skipped and fuly listened\n",
    "print(\"Fully listened to %.2f%% \\nTotal number of tracks %d\" % (len(fully_listened)/len(df)*100, len(fully_listened)))\n",
    "print(\"\\nSkipped to %.2f%% \\nTotal number of tracks %d\" % (len(skipped)/len(df)*100, len(skipped)))"
   ]
  },
  {
   "cell_type": "code",
   "execution_count": 12,
   "metadata": {},
   "outputs": [
    {
     "data": {
      "text/plain": [
       "(1598,)"
      ]
     },
     "execution_count": 12,
     "metadata": {},
     "output_type": "execute_result"
    }
   ],
   "source": [
    "df.artistName.unique().shape"
   ]
  },
  {
   "cell_type": "code",
   "execution_count": 13,
   "metadata": {},
   "outputs": [
    {
     "data": {
      "text/plain": [
       "(4272,)"
      ]
     },
     "execution_count": 13,
     "metadata": {},
     "output_type": "execute_result"
    }
   ],
   "source": [
    "df.trackName.unique().shape"
   ]
  },
  {
   "cell_type": "code",
   "execution_count": null,
   "metadata": {},
   "outputs": [],
   "source": []
  }
 ],
 "metadata": {
  "kernelspec": {
   "display_name": "Python 3",
   "language": "python",
   "name": "python3"
  },
  "language_info": {
   "codemirror_mode": {
    "name": "ipython",
    "version": 3
   },
   "file_extension": ".py",
   "mimetype": "text/x-python",
   "name": "python",
   "nbconvert_exporter": "python",
   "pygments_lexer": "ipython3",
   "version": "3.7.3"
  }
 },
 "nbformat": 4,
 "nbformat_minor": 4
}
