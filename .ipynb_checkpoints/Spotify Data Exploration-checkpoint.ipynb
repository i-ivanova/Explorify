{
 "cells": [
  {
   "cell_type": "code",
   "execution_count": 47,
   "metadata": {},
   "outputs": [],
   "source": [
    "import numpy as np\n",
    "import pandas as pd\n",
    "import matplotlib.pyplot as plt\n",
    "import datetime as dt\n",
    "import os\n",
    "import json"
   ]
  },
  {
   "cell_type": "code",
   "execution_count": 48,
   "metadata": {},
   "outputs": [
    {
     "name": "stdout",
     "output_type": "stream",
     "text": [
      "./data/Desi_data/artist_data.json\n",
      "./data/Desi_data/album_data.json\n",
      "./data/Desi_data/StreamingHistory0.json\n",
      "./data/Desi_data/processed_filtered_dataset.json\n",
      "./data/Desi_data/top_artists.json\n",
      "./data/Desi_data/listened_filtered_raw.pkl\n",
      "./data/Desi_data/listened_raw.pkl\n",
      "./data/Desi_data/track_data.json\n",
      "./data/Kaggle_data/artist_data.json\n",
      "./data/Kaggle_data/StreamingHistory0.json\n",
      "./data/Kaggle_data/processed_filtered_dataset.json\n",
      "./data/Kaggle_data/top_artists.json\n",
      "./data/Kaggle_data/listened_filtered_raw.pkl\n",
      "./data/Kaggle_data/listened_raw.pkl\n",
      "./data/Kaggle_data/track_data.json\n",
      "./data/Jonatan_data/artist_data.json\n",
      "./data/Jonatan_data/StreamingHistory0.json\n",
      "./data/Jonatan_data/processed_filtered_dataset.json\n",
      "./data/Jonatan_data/top_artists.json\n",
      "./data/Jonatan_data/listened_filtered_raw.pkl\n",
      "./data/Jonatan_data/listened_raw.pkl\n",
      "./data/Jonatan_data/track_data.json\n"
     ]
    }
   ],
   "source": [
    "for dirname, _, filenames in os.walk('./data'):\n",
    "    for filename in filenames:\n",
    "        print(os.path.join(dirname, filename))"
   ]
  },
  {
   "cell_type": "code",
   "execution_count": 49,
   "metadata": {},
   "outputs": [],
   "source": [
    "folder = \"./data/Kaggle_data/\""
   ]
  },
  {
   "cell_type": "code",
   "execution_count": 50,
   "metadata": {},
   "outputs": [
    {
     "data": {
      "text/html": [
       "<div>\n",
       "<style scoped>\n",
       "    .dataframe tbody tr th:only-of-type {\n",
       "        vertical-align: middle;\n",
       "    }\n",
       "\n",
       "    .dataframe tbody tr th {\n",
       "        vertical-align: top;\n",
       "    }\n",
       "\n",
       "    .dataframe thead th {\n",
       "        text-align: right;\n",
       "    }\n",
       "</style>\n",
       "<table border=\"1\" class=\"dataframe\">\n",
       "  <thead>\n",
       "    <tr style=\"text-align: right;\">\n",
       "      <th></th>\n",
       "      <th>endTime</th>\n",
       "      <th>artistName</th>\n",
       "      <th>trackName</th>\n",
       "      <th>msPlayed</th>\n",
       "    </tr>\n",
       "  </thead>\n",
       "  <tbody>\n",
       "    <tr>\n",
       "      <th>0</th>\n",
       "      <td>2019-02-13 06:25</td>\n",
       "      <td>Ludwig van Beethoven</td>\n",
       "      <td>Piano Sonata No. 17 In D Minor, Op. 31, No. 2 ...</td>\n",
       "      <td>5827</td>\n",
       "    </tr>\n",
       "    <tr>\n",
       "      <th>1</th>\n",
       "      <td>2019-02-13 06:26</td>\n",
       "      <td>Ludwig van Beethoven</td>\n",
       "      <td>Piano Sonata No. 17 In D Minor, Op. 31, No. 2 ...</td>\n",
       "      <td>2069</td>\n",
       "    </tr>\n",
       "    <tr>\n",
       "      <th>2</th>\n",
       "      <td>2019-02-13 06:26</td>\n",
       "      <td>Danney Alkana</td>\n",
       "      <td>Beethoven: \"Symphony No. Five\" Complete</td>\n",
       "      <td>6574</td>\n",
       "    </tr>\n",
       "    <tr>\n",
       "      <th>3</th>\n",
       "      <td>2019-02-13 06:26</td>\n",
       "      <td>Ludwig van Beethoven</td>\n",
       "      <td>Piano Sonata No. 14 in C-Sharp Minor, Op. 27 N...</td>\n",
       "      <td>12975</td>\n",
       "    </tr>\n",
       "    <tr>\n",
       "      <th>4</th>\n",
       "      <td>2019-02-13 06:30</td>\n",
       "      <td>Ludwig van Beethoven</td>\n",
       "      <td>Beethoven: Symphony No. 7 in A Major, Op. 92: ...</td>\n",
       "      <td>237475</td>\n",
       "    </tr>\n",
       "    <tr>\n",
       "      <th>5</th>\n",
       "      <td>2019-02-13 06:33</td>\n",
       "      <td>Antonín Dvořák</td>\n",
       "      <td>Songs My Mother Taught Me from Gypsy Melodie, ...</td>\n",
       "      <td>175731</td>\n",
       "    </tr>\n",
       "    <tr>\n",
       "      <th>6</th>\n",
       "      <td>2019-02-13 07:34</td>\n",
       "      <td>Frederick Delius</td>\n",
       "      <td>Two Aquarelles (1987 Remaster): II. Gaily, but...</td>\n",
       "      <td>49225</td>\n",
       "    </tr>\n",
       "    <tr>\n",
       "      <th>7</th>\n",
       "      <td>2019-02-15 05:18</td>\n",
       "      <td>Depeche Mode</td>\n",
       "      <td>Enjoy the Silence - Single Mix</td>\n",
       "      <td>255246</td>\n",
       "    </tr>\n",
       "    <tr>\n",
       "      <th>8</th>\n",
       "      <td>2019-02-15 05:23</td>\n",
       "      <td>Depeche Mode</td>\n",
       "      <td>Just Can't Get Enough (Live in Hammersmith) - ...</td>\n",
       "      <td>335202</td>\n",
       "    </tr>\n",
       "    <tr>\n",
       "      <th>9</th>\n",
       "      <td>2019-02-15 05:26</td>\n",
       "      <td>Depeche Mode</td>\n",
       "      <td>Personal Jesus - Original Seven Inch Version</td>\n",
       "      <td>166488</td>\n",
       "    </tr>\n",
       "  </tbody>\n",
       "</table>\n",
       "</div>"
      ],
      "text/plain": [
       "            endTime            artistName  \\\n",
       "0  2019-02-13 06:25  Ludwig van Beethoven   \n",
       "1  2019-02-13 06:26  Ludwig van Beethoven   \n",
       "2  2019-02-13 06:26         Danney Alkana   \n",
       "3  2019-02-13 06:26  Ludwig van Beethoven   \n",
       "4  2019-02-13 06:30  Ludwig van Beethoven   \n",
       "5  2019-02-13 06:33        Antonín Dvořák   \n",
       "6  2019-02-13 07:34      Frederick Delius   \n",
       "7  2019-02-15 05:18          Depeche Mode   \n",
       "8  2019-02-15 05:23          Depeche Mode   \n",
       "9  2019-02-15 05:26          Depeche Mode   \n",
       "\n",
       "                                           trackName  msPlayed  \n",
       "0  Piano Sonata No. 17 In D Minor, Op. 31, No. 2 ...      5827  \n",
       "1  Piano Sonata No. 17 In D Minor, Op. 31, No. 2 ...      2069  \n",
       "2            Beethoven: \"Symphony No. Five\" Complete      6574  \n",
       "3  Piano Sonata No. 14 in C-Sharp Minor, Op. 27 N...     12975  \n",
       "4  Beethoven: Symphony No. 7 in A Major, Op. 92: ...    237475  \n",
       "5  Songs My Mother Taught Me from Gypsy Melodie, ...    175731  \n",
       "6  Two Aquarelles (1987 Remaster): II. Gaily, but...     49225  \n",
       "7                     Enjoy the Silence - Single Mix    255246  \n",
       "8  Just Can't Get Enough (Live in Hammersmith) - ...    335202  \n",
       "9       Personal Jesus - Original Seven Inch Version    166488  "
      ]
     },
     "execution_count": 50,
     "metadata": {},
     "output_type": "execute_result"
    }
   ],
   "source": [
    "# Create URL to JSON file (alternatively this can be a filepath)\n",
    "json_file = folder + \"StreamingHistory0.json\"\n",
    "\n",
    "# Load the first sheet of the JSON file into a data frame\n",
    "df = pd.read_json(json_file, orient='columns')\n",
    "\n",
    "# View the first ten rows\n",
    "df.head(10)"
   ]
  },
  {
   "cell_type": "code",
   "execution_count": 51,
   "metadata": {},
   "outputs": [
    {
     "name": "stdout",
     "output_type": "stream",
     "text": [
      "3573\n"
     ]
    }
   ],
   "source": [
    "print(len(df))"
   ]
  },
  {
   "cell_type": "code",
   "execution_count": 52,
   "metadata": {},
   "outputs": [
    {
     "name": "stdout",
     "output_type": "stream",
     "text": [
      "70272.04729918836 0 644238\n"
     ]
    }
   ],
   "source": [
    "# Some stats\n",
    "print(df[\"msPlayed\"].mean(), df[\"msPlayed\"].min(), df[\"msPlayed\"].max())"
   ]
  },
  {
   "cell_type": "code",
   "execution_count": 53,
   "metadata": {},
   "outputs": [],
   "source": [
    "## filter tracks by msPlayed\n",
    "threshold = 10000  # 10 seconds\n",
    "fully_listened = df.loc[df['msPlayed'] >= threshold] \n",
    "skipped = df.loc[df['msPlayed'] < threshold] "
   ]
  },
  {
   "cell_type": "code",
   "execution_count": 54,
   "metadata": {},
   "outputs": [
    {
     "name": "stdout",
     "output_type": "stream",
     "text": [
      "Fully listened to 47.89% \n",
      "Total number of tracks 1711\n",
      "\n",
      "Skipped to 52.11% \n",
      "Total number of tracks 1862\n"
     ]
    }
   ],
   "source": [
    "# ratio skipped and fuly listened\n",
    "print(\"Fully listened to %.2f%% \\nTotal number of tracks %d\" % (len(fully_listened)/len(df)*100, len(fully_listened)))\n",
    "print(\"\\nSkipped to %.2f%% \\nTotal number of tracks %d\" % (len(skipped)/len(df)*100, len(skipped)))"
   ]
  },
  {
   "cell_type": "code",
   "execution_count": 55,
   "metadata": {},
   "outputs": [
    {
     "data": {
      "text/plain": [
       "Text(0.5, 0, 'seconds')"
      ]
     },
     "execution_count": 55,
     "metadata": {},
     "output_type": "execute_result"
    },
    {
     "data": {
      "image/png": "[encoded data removed]",
      "text/plain": [
       "<Figure size 864x504 with 1 Axes>"
      ]
     },
     "metadata": {
      "needs_background": "light"
     },
     "output_type": "display_data"
    }
   ],
   "source": [
    "fig = plt.figure(figsize=(12, 7))\n",
    "plt.hist(fully_listened['msPlayed']/100, bins=20,  rwidth=0.9)\n",
    "fig.suptitle('Listening histogram', fontsize=20)\n",
    "plt.ylabel('# of songs', fontsize=18)\n",
    "plt.xlabel('seconds', fontsize=16)"
   ]
  },
  {
   "cell_type": "markdown",
   "metadata": {},
   "source": [
    "# Spotify API: Extract data and features"
   ]
  },
  {
   "cell_type": "code",
   "execution_count": 56,
   "metadata": {},
   "outputs": [],
   "source": [
    "import spotipy\n",
    "from spotipy.oauth2 import SpotifyClientCredentials"
   ]
  },
  {
   "cell_type": "code",
   "execution_count": 57,
   "metadata": {},
   "outputs": [],
   "source": [
    "client_id = \"b9dbb97e8d404c7ca611adc9aa7814c6\"\n",
    "client_secret = \"49de3614d07a4ac5bab51f4c3e836c47\"\n",
    "credentials = SpotifyClientCredentials(client_id=client_id, client_secret=client_secret)\n",
    "# token = credentials.get_access_token()\n",
    "\n",
    "spotify = spotipy.Spotify(auth_manager=credentials)"
   ]
  },
  {
   "cell_type": "code",
   "execution_count": 58,
   "metadata": {},
   "outputs": [],
   "source": [
    "# Extract data functions\n",
    "\n",
    "def get_track_details(row):\n",
    "    try:\n",
    "        return spotify.search(q=\"track:\" + row.trackName[:40] + \" artist:\" + row.artistName, limit=1, type=\"track\")\n",
    "    except ReadTimeout as e:\n",
    "        print(row)\n",
    "        return None\n",
    "        \n",
    "\n",
    "def get_track_features(track_id):\n",
    "    if track_id is not None:\n",
    "        for i in range(1, 6):  # max 5 retries\n",
    "            try:\n",
    "                return spotify.audio_features(track_id)\n",
    "            except:\n",
    "                print(\"Couldn't fetch data for %s at try %d\" % (track_id, i))\n",
    "                pass\n",
    "    return None\n",
    "\n",
    "def extract_album_id(track_details):\n",
    "    try:\n",
    "        return track_details[\"tracks\"][\"items\"][0][\"album\"][\"id\"]\n",
    "    except IndexError as e:\n",
    "        return None\n",
    "    \n",
    "def get_track_album_data(album_id):\n",
    "    try:\n",
    "        return spotify.album(album_id)\n",
    "    except IndexError as e:\n",
    "        return None\n",
    "\n",
    "def get_track_genre_by_artist(artist_details):\n",
    "    try:\n",
    "        return artist_details[\"genres\"]\n",
    "    except IndexError as e:\n",
    "        return None\n",
    "    \n",
    "def get_artist_id(track_details):\n",
    "    try:\n",
    "        return track_details[\"tracks\"][\"items\"][0][\"album\"][\"artists\"][0][\"id\"]\n",
    "    except IndexError as e:\n",
    "        return None\n",
    "    \n",
    "def get_artist_data(artist_id):\n",
    "    try:\n",
    "        return spotify.artist(artist_id)\n",
    "    except ReadTimeout as e:\n",
    "        print(artist_id)\n",
    "        return None\n",
    "\n",
    "def get_track_id(track_details):\n",
    "    try:\n",
    "        return track_details['tracks']['items'][0]['id']\n",
    "    except:\n",
    "        return None\n",
    "    \n",
    "def get_track_duration(track_details):\n",
    "    try:\n",
    "        return track_details['tracks']['items'][0]['duration_ms']\n",
    "    except:\n",
    "        return None\n",
    "\n",
    "def get_track_popularity(track_details):\n",
    "    try:\n",
    "        return track_details['tracks']['items'][0]['popularity']\n",
    "    except:\n",
    "        return None"
   ]
  },
  {
   "cell_type": "code",
   "execution_count": 59,
   "metadata": {},
   "outputs": [],
   "source": [
    "unique = fully_listened.drop_duplicates(subset=['trackName'])\n",
    "track_data = {}"
   ]
  },
  {
   "cell_type": "code",
   "execution_count": 60,
   "metadata": {},
   "outputs": [],
   "source": [
    "for i, row in unique.iterrows():\n",
    "    track_data[row.trackName] = get_track_details(row)"
   ]
  },
  {
   "cell_type": "code",
   "execution_count": 61,
   "metadata": {},
   "outputs": [
    {
     "name": "stderr",
     "output_type": "stream",
     "text": [
      "/home/iivanova/anaconda3/lib/python3.7/site-packages/ipykernel_launcher.py:1: SettingWithCopyWarning: \n",
      "A value is trying to be set on a copy of a slice from a DataFrame.\n",
      "Try using .loc[row_indexer,col_indexer] = value instead\n",
      "\n",
      "See the caveats in the documentation: https://pandas.pydata.org/pandas-docs/stable/user_guide/indexing.html#returning-a-view-versus-a-copy\n",
      "  \"\"\"Entry point for launching an IPython kernel.\n"
     ]
    },
    {
     "data": {
      "text/html": [
       "<div>\n",
       "<style scoped>\n",
       "    .dataframe tbody tr th:only-of-type {\n",
       "        vertical-align: middle;\n",
       "    }\n",
       "\n",
       "    .dataframe tbody tr th {\n",
       "        vertical-align: top;\n",
       "    }\n",
       "\n",
       "    .dataframe thead th {\n",
       "        text-align: right;\n",
       "    }\n",
       "</style>\n",
       "<table border=\"1\" class=\"dataframe\">\n",
       "  <thead>\n",
       "    <tr style=\"text-align: right;\">\n",
       "      <th></th>\n",
       "      <th>endTime</th>\n",
       "      <th>artistName</th>\n",
       "      <th>trackName</th>\n",
       "      <th>msPlayed</th>\n",
       "      <th>trackDetails</th>\n",
       "    </tr>\n",
       "  </thead>\n",
       "  <tbody>\n",
       "    <tr>\n",
       "      <th>3</th>\n",
       "      <td>2019-02-13 06:26</td>\n",
       "      <td>Ludwig van Beethoven</td>\n",
       "      <td>Piano Sonata No. 14 in C-Sharp Minor, Op. 27 N...</td>\n",
       "      <td>12975</td>\n",
       "      <td>{'tracks': {'href': 'https://api.spotify.com/v...</td>\n",
       "    </tr>\n",
       "    <tr>\n",
       "      <th>4</th>\n",
       "      <td>2019-02-13 06:30</td>\n",
       "      <td>Ludwig van Beethoven</td>\n",
       "      <td>Beethoven: Symphony No. 7 in A Major, Op. 92: ...</td>\n",
       "      <td>237475</td>\n",
       "      <td>{'tracks': {'href': 'https://api.spotify.com/v...</td>\n",
       "    </tr>\n",
       "    <tr>\n",
       "      <th>5</th>\n",
       "      <td>2019-02-13 06:33</td>\n",
       "      <td>Antonín Dvořák</td>\n",
       "      <td>Songs My Mother Taught Me from Gypsy Melodie, ...</td>\n",
       "      <td>175731</td>\n",
       "      <td>{'tracks': {'href': 'https://api.spotify.com/v...</td>\n",
       "    </tr>\n",
       "    <tr>\n",
       "      <th>6</th>\n",
       "      <td>2019-02-13 07:34</td>\n",
       "      <td>Frederick Delius</td>\n",
       "      <td>Two Aquarelles (1987 Remaster): II. Gaily, but...</td>\n",
       "      <td>49225</td>\n",
       "      <td>{'tracks': {'href': 'https://api.spotify.com/v...</td>\n",
       "    </tr>\n",
       "    <tr>\n",
       "      <th>7</th>\n",
       "      <td>2019-02-15 05:18</td>\n",
       "      <td>Depeche Mode</td>\n",
       "      <td>Enjoy the Silence - Single Mix</td>\n",
       "      <td>255246</td>\n",
       "      <td>{'tracks': {'href': 'https://api.spotify.com/v...</td>\n",
       "    </tr>\n",
       "  </tbody>\n",
       "</table>\n",
       "</div>"
      ],
      "text/plain": [
       "            endTime            artistName  \\\n",
       "3  2019-02-13 06:26  Ludwig van Beethoven   \n",
       "4  2019-02-13 06:30  Ludwig van Beethoven   \n",
       "5  2019-02-13 06:33        Antonín Dvořák   \n",
       "6  2019-02-13 07:34      Frederick Delius   \n",
       "7  2019-02-15 05:18          Depeche Mode   \n",
       "\n",
       "                                           trackName  msPlayed  \\\n",
       "3  Piano Sonata No. 14 in C-Sharp Minor, Op. 27 N...     12975   \n",
       "4  Beethoven: Symphony No. 7 in A Major, Op. 92: ...    237475   \n",
       "5  Songs My Mother Taught Me from Gypsy Melodie, ...    175731   \n",
       "6  Two Aquarelles (1987 Remaster): II. Gaily, but...     49225   \n",
       "7                     Enjoy the Silence - Single Mix    255246   \n",
       "\n",
       "                                        trackDetails  \n",
       "3  {'tracks': {'href': 'https://api.spotify.com/v...  \n",
       "4  {'tracks': {'href': 'https://api.spotify.com/v...  \n",
       "5  {'tracks': {'href': 'https://api.spotify.com/v...  \n",
       "6  {'tracks': {'href': 'https://api.spotify.com/v...  \n",
       "7  {'tracks': {'href': 'https://api.spotify.com/v...  "
      ]
     },
     "execution_count": 61,
     "metadata": {},
     "output_type": "execute_result"
    }
   ],
   "source": [
    "fully_listened[\"trackDetails\"] = fully_listened.trackName.apply(lambda x: track_data[x])\n",
    "fully_listened.head()"
   ]
  },
  {
   "cell_type": "code",
   "execution_count": 62,
   "metadata": {},
   "outputs": [
    {
     "data": {
      "text/plain": [
       "3    {'tracks': {'href': 'https://api.spotify.com/v...\n",
       "4    {'tracks': {'href': 'https://api.spotify.com/v...\n",
       "5    {'tracks': {'href': 'https://api.spotify.com/v...\n",
       "6    {'tracks': {'href': 'https://api.spotify.com/v...\n",
       "7    {'tracks': {'href': 'https://api.spotify.com/v...\n",
       "Name: trackDetails, dtype: object"
      ]
     },
     "execution_count": 62,
     "metadata": {},
     "output_type": "execute_result"
    }
   ],
   "source": [
    "fully_listened.trackDetails.head()"
   ]
  },
  {
   "cell_type": "code",
   "execution_count": 63,
   "metadata": {},
   "outputs": [
    {
     "name": "stderr",
     "output_type": "stream",
     "text": [
      "/home/iivanova/anaconda3/lib/python3.7/site-packages/ipykernel_launcher.py:1: SettingWithCopyWarning: \n",
      "A value is trying to be set on a copy of a slice from a DataFrame.\n",
      "Try using .loc[row_indexer,col_indexer] = value instead\n",
      "\n",
      "See the caveats in the documentation: https://pandas.pydata.org/pandas-docs/stable/user_guide/indexing.html#returning-a-view-versus-a-copy\n",
      "  \"\"\"Entry point for launching an IPython kernel.\n"
     ]
    }
   ],
   "source": [
    "fully_listened[\"trackId\"] = fully_listened[\"trackDetails\"].apply(get_track_id)"
   ]
  },
  {
   "cell_type": "code",
   "execution_count": 64,
   "metadata": {},
   "outputs": [
    {
     "name": "stderr",
     "output_type": "stream",
     "text": [
      "/home/iivanova/anaconda3/lib/python3.7/site-packages/ipykernel_launcher.py:1: SettingWithCopyWarning: \n",
      "A value is trying to be set on a copy of a slice from a DataFrame.\n",
      "Try using .loc[row_indexer,col_indexer] = value instead\n",
      "\n",
      "See the caveats in the documentation: https://pandas.pydata.org/pandas-docs/stable/user_guide/indexing.html#returning-a-view-versus-a-copy\n",
      "  \"\"\"Entry point for launching an IPython kernel.\n"
     ]
    }
   ],
   "source": [
    "fully_listened[\"trackDuration\"] = fully_listened[\"trackDetails\"].apply(get_track_duration)"
   ]
  },
  {
   "cell_type": "code",
   "execution_count": 65,
   "metadata": {},
   "outputs": [
    {
     "name": "stderr",
     "output_type": "stream",
     "text": [
      "/home/iivanova/anaconda3/lib/python3.7/site-packages/ipykernel_launcher.py:1: SettingWithCopyWarning: \n",
      "A value is trying to be set on a copy of a slice from a DataFrame.\n",
      "Try using .loc[row_indexer,col_indexer] = value instead\n",
      "\n",
      "See the caveats in the documentation: https://pandas.pydata.org/pandas-docs/stable/user_guide/indexing.html#returning-a-view-versus-a-copy\n",
      "  \"\"\"Entry point for launching an IPython kernel.\n"
     ]
    }
   ],
   "source": [
    "fully_listened[\"trackPopularity\"] = fully_listened[\"trackDetails\"].apply(get_track_popularity)"
   ]
  },
  {
   "cell_type": "code",
   "execution_count": 66,
   "metadata": {},
   "outputs": [
    {
     "name": "stderr",
     "output_type": "stream",
     "text": [
      "/home/iivanova/anaconda3/lib/python3.7/site-packages/ipykernel_launcher.py:1: SettingWithCopyWarning: \n",
      "A value is trying to be set on a copy of a slice from a DataFrame.\n",
      "Try using .loc[row_indexer,col_indexer] = value instead\n",
      "\n",
      "See the caveats in the documentation: https://pandas.pydata.org/pandas-docs/stable/user_guide/indexing.html#returning-a-view-versus-a-copy\n",
      "  \"\"\"Entry point for launching an IPython kernel.\n"
     ]
    }
   ],
   "source": [
    "fully_listened[\"trackAlbum\"] = fully_listened[\"trackDetails\"].apply(extract_album_id)"
   ]
  },
  {
   "cell_type": "code",
   "execution_count": 67,
   "metadata": {},
   "outputs": [
    {
     "name": "stderr",
     "output_type": "stream",
     "text": [
      "/home/iivanova/anaconda3/lib/python3.7/site-packages/ipykernel_launcher.py:1: SettingWithCopyWarning: \n",
      "A value is trying to be set on a copy of a slice from a DataFrame.\n",
      "Try using .loc[row_indexer,col_indexer] = value instead\n",
      "\n",
      "See the caveats in the documentation: https://pandas.pydata.org/pandas-docs/stable/user_guide/indexing.html#returning-a-view-versus-a-copy\n",
      "  \"\"\"Entry point for launching an IPython kernel.\n"
     ]
    }
   ],
   "source": [
    "fully_listened[\"trackArtistId\"] = fully_listened[\"trackDetails\"].apply(get_artist_id)"
   ]
  },
  {
   "cell_type": "code",
   "execution_count": 68,
   "metadata": {},
   "outputs": [],
   "source": [
    "unique_track_ids = fully_listened.trackId.unique()"
   ]
  },
  {
   "cell_type": "code",
   "execution_count": 69,
   "metadata": {},
   "outputs": [],
   "source": [
    "track_details = {}\n",
    "for track_id in unique_track_ids:\n",
    "    track_details[track_id] = get_track_features(track_id)"
   ]
  },
  {
   "cell_type": "code",
   "execution_count": 70,
   "metadata": {},
   "outputs": [
    {
     "name": "stderr",
     "output_type": "stream",
     "text": [
      "/home/iivanova/anaconda3/lib/python3.7/site-packages/ipykernel_launcher.py:1: SettingWithCopyWarning: \n",
      "A value is trying to be set on a copy of a slice from a DataFrame.\n",
      "Try using .loc[row_indexer,col_indexer] = value instead\n",
      "\n",
      "See the caveats in the documentation: https://pandas.pydata.org/pandas-docs/stable/user_guide/indexing.html#returning-a-view-versus-a-copy\n",
      "  \"\"\"Entry point for launching an IPython kernel.\n"
     ]
    }
   ],
   "source": [
    "fully_listened[\"trackFeatures\"] = fully_listened[\"trackId\"].apply(lambda x: track_details[x])"
   ]
  },
  {
   "cell_type": "code",
   "execution_count": 71,
   "metadata": {},
   "outputs": [
    {
     "data": {
      "text/html": [
       "<div>\n",
       "<style scoped>\n",
       "    .dataframe tbody tr th:only-of-type {\n",
       "        vertical-align: middle;\n",
       "    }\n",
       "\n",
       "    .dataframe tbody tr th {\n",
       "        vertical-align: top;\n",
       "    }\n",
       "\n",
       "    .dataframe thead th {\n",
       "        text-align: right;\n",
       "    }\n",
       "</style>\n",
       "<table border=\"1\" class=\"dataframe\">\n",
       "  <thead>\n",
       "    <tr style=\"text-align: right;\">\n",
       "      <th></th>\n",
       "      <th>endTime</th>\n",
       "      <th>artistName</th>\n",
       "      <th>trackName</th>\n",
       "      <th>msPlayed</th>\n",
       "      <th>trackDetails</th>\n",
       "      <th>trackId</th>\n",
       "      <th>trackDuration</th>\n",
       "      <th>trackPopularity</th>\n",
       "      <th>trackAlbum</th>\n",
       "      <th>trackArtistId</th>\n",
       "      <th>trackFeatures</th>\n",
       "    </tr>\n",
       "  </thead>\n",
       "  <tbody>\n",
       "    <tr>\n",
       "      <th>3</th>\n",
       "      <td>2019-02-13 06:26</td>\n",
       "      <td>Ludwig van Beethoven</td>\n",
       "      <td>Piano Sonata No. 14 in C-Sharp Minor, Op. 27 N...</td>\n",
       "      <td>12975</td>\n",
       "      <td>{'tracks': {'href': 'https://api.spotify.com/v...</td>\n",
       "      <td>5x4JURaUqDOmsW8cQWfKR7</td>\n",
       "      <td>326980.0</td>\n",
       "      <td>0.0</td>\n",
       "      <td>1F9IYEDYiv5hu3305CYYiR</td>\n",
       "      <td>0LyfQWJT6nXafLPZqxe9Of</td>\n",
       "      <td>[{'danceability': 0.221, 'energy': 0.0681, 'ke...</td>\n",
       "    </tr>\n",
       "    <tr>\n",
       "      <th>4</th>\n",
       "      <td>2019-02-13 06:30</td>\n",
       "      <td>Ludwig van Beethoven</td>\n",
       "      <td>Beethoven: Symphony No. 7 in A Major, Op. 92: ...</td>\n",
       "      <td>237475</td>\n",
       "      <td>{'tracks': {'href': 'https://api.spotify.com/v...</td>\n",
       "      <td>48LZLWlKuyrcp4t0iQJeqd</td>\n",
       "      <td>485367.0</td>\n",
       "      <td>40.0</td>\n",
       "      <td>5fpZpfJBKmG82qAvPRwZK8</td>\n",
       "      <td>2wOqMjp9TyABvtHdOSOTUS</td>\n",
       "      <td>[{'danceability': 0.423, 'energy': 0.344, 'key...</td>\n",
       "    </tr>\n",
       "    <tr>\n",
       "      <th>5</th>\n",
       "      <td>2019-02-13 06:33</td>\n",
       "      <td>Antonín Dvořák</td>\n",
       "      <td>Songs My Mother Taught Me from Gypsy Melodie, ...</td>\n",
       "      <td>175731</td>\n",
       "      <td>{'tracks': {'href': 'https://api.spotify.com/v...</td>\n",
       "      <td>2oGjnkGZgpU3j70zbtJgzV</td>\n",
       "      <td>136160.0</td>\n",
       "      <td>0.0</td>\n",
       "      <td>7uQVkMjnWDvV9JEcVine7k</td>\n",
       "      <td>6n7nd5iceYpXVwcx8VPpxF</td>\n",
       "      <td>[{'danceability': 0.266, 'energy': 0.122, 'key...</td>\n",
       "    </tr>\n",
       "    <tr>\n",
       "      <th>6</th>\n",
       "      <td>2019-02-13 07:34</td>\n",
       "      <td>Frederick Delius</td>\n",
       "      <td>Two Aquarelles (1987 Remaster): II. Gaily, but...</td>\n",
       "      <td>49225</td>\n",
       "      <td>{'tracks': {'href': 'https://api.spotify.com/v...</td>\n",
       "      <td>4PwywCngJG2ykV2D0HG368</td>\n",
       "      <td>124026.0</td>\n",
       "      <td>12.0</td>\n",
       "      <td>5kTtD1xA5yYPrwjEYWk5uy</td>\n",
       "      <td>0LyfQWJT6nXafLPZqxe9Of</td>\n",
       "      <td>[{'danceability': 0.194, 'energy': 0.132, 'key...</td>\n",
       "    </tr>\n",
       "    <tr>\n",
       "      <th>7</th>\n",
       "      <td>2019-02-15 05:18</td>\n",
       "      <td>Depeche Mode</td>\n",
       "      <td>Enjoy the Silence - Single Mix</td>\n",
       "      <td>255246</td>\n",
       "      <td>{'tracks': {'href': 'https://api.spotify.com/v...</td>\n",
       "      <td>1YwNlWLf8auhazSQUDQLFU</td>\n",
       "      <td>257333.0</td>\n",
       "      <td>67.0</td>\n",
       "      <td>13OoJ5Y23cdo8CDAiQwznb</td>\n",
       "      <td>762310PdDnwsDxAQxzQkfX</td>\n",
       "      <td>[{'danceability': 0.641, 'energy': 0.812, 'key...</td>\n",
       "    </tr>\n",
       "  </tbody>\n",
       "</table>\n",
       "</div>"
      ],
      "text/plain": [
       "            endTime            artistName  \\\n",
       "3  2019-02-13 06:26  Ludwig van Beethoven   \n",
       "4  2019-02-13 06:30  Ludwig van Beethoven   \n",
       "5  2019-02-13 06:33        Antonín Dvořák   \n",
       "6  2019-02-13 07:34      Frederick Delius   \n",
       "7  2019-02-15 05:18          Depeche Mode   \n",
       "\n",
       "                                           trackName  msPlayed  \\\n",
       "3  Piano Sonata No. 14 in C-Sharp Minor, Op. 27 N...     12975   \n",
       "4  Beethoven: Symphony No. 7 in A Major, Op. 92: ...    237475   \n",
       "5  Songs My Mother Taught Me from Gypsy Melodie, ...    175731   \n",
       "6  Two Aquarelles (1987 Remaster): II. Gaily, but...     49225   \n",
       "7                     Enjoy the Silence - Single Mix    255246   \n",
       "\n",
       "                                        trackDetails                 trackId  \\\n",
       "3  {'tracks': {'href': 'https://api.spotify.com/v...  5x4JURaUqDOmsW8cQWfKR7   \n",
       "4  {'tracks': {'href': 'https://api.spotify.com/v...  48LZLWlKuyrcp4t0iQJeqd   \n",
       "5  {'tracks': {'href': 'https://api.spotify.com/v...  2oGjnkGZgpU3j70zbtJgzV   \n",
       "6  {'tracks': {'href': 'https://api.spotify.com/v...  4PwywCngJG2ykV2D0HG368   \n",
       "7  {'tracks': {'href': 'https://api.spotify.com/v...  1YwNlWLf8auhazSQUDQLFU   \n",
       "\n",
       "   trackDuration  trackPopularity              trackAlbum  \\\n",
       "3       326980.0              0.0  1F9IYEDYiv5hu3305CYYiR   \n",
       "4       485367.0             40.0  5fpZpfJBKmG82qAvPRwZK8   \n",
       "5       136160.0              0.0  7uQVkMjnWDvV9JEcVine7k   \n",
       "6       124026.0             12.0  5kTtD1xA5yYPrwjEYWk5uy   \n",
       "7       257333.0             67.0  13OoJ5Y23cdo8CDAiQwznb   \n",
       "\n",
       "            trackArtistId                                      trackFeatures  \n",
       "3  0LyfQWJT6nXafLPZqxe9Of  [{'danceability': 0.221, 'energy': 0.0681, 'ke...  \n",
       "4  2wOqMjp9TyABvtHdOSOTUS  [{'danceability': 0.423, 'energy': 0.344, 'key...  \n",
       "5  6n7nd5iceYpXVwcx8VPpxF  [{'danceability': 0.266, 'energy': 0.122, 'key...  \n",
       "6  0LyfQWJT6nXafLPZqxe9Of  [{'danceability': 0.194, 'energy': 0.132, 'key...  \n",
       "7  762310PdDnwsDxAQxzQkfX  [{'danceability': 0.641, 'energy': 0.812, 'key...  "
      ]
     },
     "execution_count": 71,
     "metadata": {},
     "output_type": "execute_result"
    }
   ],
   "source": [
    "fully_listened.head()"
   ]
  },
  {
   "cell_type": "code",
   "execution_count": 72,
   "metadata": {},
   "outputs": [],
   "source": [
    "fully_listened.to_pickle(folder + \"listened_raw.pkl\")\n",
    "# fully_listened = pd.read_pickle(\"./data/Desi_data/listened_raw.pkl\")"
   ]
  },
  {
   "cell_type": "code",
   "execution_count": 73,
   "metadata": {},
   "outputs": [
    {
     "name": "stdout",
     "output_type": "stream",
     "text": [
      "Just cleaned up 115 tracks\n"
     ]
    }
   ],
   "source": [
    "# clean-up None values\n",
    "filtered = fully_listened.loc[fully_listened[\"trackId\"].notna()]\n",
    "print(\"Just cleaned up %d tracks\" % (fully_listened.shape[0] - filtered.shape[0]))"
   ]
  },
  {
   "cell_type": "code",
   "execution_count": 74,
   "metadata": {},
   "outputs": [
    {
     "name": "stderr",
     "output_type": "stream",
     "text": [
      "/home/iivanova/anaconda3/lib/python3.7/site-packages/pandas/core/frame.py:3997: SettingWithCopyWarning: \n",
      "A value is trying to be set on a copy of a slice from a DataFrame\n",
      "\n",
      "See the caveats in the documentation: https://pandas.pydata.org/pandas-docs/stable/user_guide/indexing.html#returning-a-view-versus-a-copy\n",
      "  errors=errors,\n"
     ]
    },
    {
     "data": {
      "text/html": [
       "<div>\n",
       "<style scoped>\n",
       "    .dataframe tbody tr th:only-of-type {\n",
       "        vertical-align: middle;\n",
       "    }\n",
       "\n",
       "    .dataframe tbody tr th {\n",
       "        vertical-align: top;\n",
       "    }\n",
       "\n",
       "    .dataframe thead th {\n",
       "        text-align: right;\n",
       "    }\n",
       "</style>\n",
       "<table border=\"1\" class=\"dataframe\">\n",
       "  <thead>\n",
       "    <tr style=\"text-align: right;\">\n",
       "      <th></th>\n",
       "      <th>endTime</th>\n",
       "      <th>artistName</th>\n",
       "      <th>trackName</th>\n",
       "      <th>msPlayed</th>\n",
       "      <th>trackId</th>\n",
       "      <th>trackDuration</th>\n",
       "      <th>trackPopularity</th>\n",
       "      <th>trackAlbum</th>\n",
       "      <th>trackArtistId</th>\n",
       "      <th>trackFeatures</th>\n",
       "    </tr>\n",
       "  </thead>\n",
       "  <tbody>\n",
       "    <tr>\n",
       "      <th>3</th>\n",
       "      <td>2019-02-13 06:26</td>\n",
       "      <td>Ludwig van Beethoven</td>\n",
       "      <td>Piano Sonata No. 14 in C-Sharp Minor, Op. 27 N...</td>\n",
       "      <td>12975</td>\n",
       "      <td>5x4JURaUqDOmsW8cQWfKR7</td>\n",
       "      <td>326980.0</td>\n",
       "      <td>0.0</td>\n",
       "      <td>1F9IYEDYiv5hu3305CYYiR</td>\n",
       "      <td>0LyfQWJT6nXafLPZqxe9Of</td>\n",
       "      <td>[{'danceability': 0.221, 'energy': 0.0681, 'ke...</td>\n",
       "    </tr>\n",
       "    <tr>\n",
       "      <th>4</th>\n",
       "      <td>2019-02-13 06:30</td>\n",
       "      <td>Ludwig van Beethoven</td>\n",
       "      <td>Beethoven: Symphony No. 7 in A Major, Op. 92: ...</td>\n",
       "      <td>237475</td>\n",
       "      <td>48LZLWlKuyrcp4t0iQJeqd</td>\n",
       "      <td>485367.0</td>\n",
       "      <td>40.0</td>\n",
       "      <td>5fpZpfJBKmG82qAvPRwZK8</td>\n",
       "      <td>2wOqMjp9TyABvtHdOSOTUS</td>\n",
       "      <td>[{'danceability': 0.423, 'energy': 0.344, 'key...</td>\n",
       "    </tr>\n",
       "    <tr>\n",
       "      <th>5</th>\n",
       "      <td>2019-02-13 06:33</td>\n",
       "      <td>Antonín Dvořák</td>\n",
       "      <td>Songs My Mother Taught Me from Gypsy Melodie, ...</td>\n",
       "      <td>175731</td>\n",
       "      <td>2oGjnkGZgpU3j70zbtJgzV</td>\n",
       "      <td>136160.0</td>\n",
       "      <td>0.0</td>\n",
       "      <td>7uQVkMjnWDvV9JEcVine7k</td>\n",
       "      <td>6n7nd5iceYpXVwcx8VPpxF</td>\n",
       "      <td>[{'danceability': 0.266, 'energy': 0.122, 'key...</td>\n",
       "    </tr>\n",
       "    <tr>\n",
       "      <th>6</th>\n",
       "      <td>2019-02-13 07:34</td>\n",
       "      <td>Frederick Delius</td>\n",
       "      <td>Two Aquarelles (1987 Remaster): II. Gaily, but...</td>\n",
       "      <td>49225</td>\n",
       "      <td>4PwywCngJG2ykV2D0HG368</td>\n",
       "      <td>124026.0</td>\n",
       "      <td>12.0</td>\n",
       "      <td>5kTtD1xA5yYPrwjEYWk5uy</td>\n",
       "      <td>0LyfQWJT6nXafLPZqxe9Of</td>\n",
       "      <td>[{'danceability': 0.194, 'energy': 0.132, 'key...</td>\n",
       "    </tr>\n",
       "    <tr>\n",
       "      <th>7</th>\n",
       "      <td>2019-02-15 05:18</td>\n",
       "      <td>Depeche Mode</td>\n",
       "      <td>Enjoy the Silence - Single Mix</td>\n",
       "      <td>255246</td>\n",
       "      <td>1YwNlWLf8auhazSQUDQLFU</td>\n",
       "      <td>257333.0</td>\n",
       "      <td>67.0</td>\n",
       "      <td>13OoJ5Y23cdo8CDAiQwznb</td>\n",
       "      <td>762310PdDnwsDxAQxzQkfX</td>\n",
       "      <td>[{'danceability': 0.641, 'energy': 0.812, 'key...</td>\n",
       "    </tr>\n",
       "  </tbody>\n",
       "</table>\n",
       "</div>"
      ],
      "text/plain": [
       "            endTime            artistName  \\\n",
       "3  2019-02-13 06:26  Ludwig van Beethoven   \n",
       "4  2019-02-13 06:30  Ludwig van Beethoven   \n",
       "5  2019-02-13 06:33        Antonín Dvořák   \n",
       "6  2019-02-13 07:34      Frederick Delius   \n",
       "7  2019-02-15 05:18          Depeche Mode   \n",
       "\n",
       "                                           trackName  msPlayed  \\\n",
       "3  Piano Sonata No. 14 in C-Sharp Minor, Op. 27 N...     12975   \n",
       "4  Beethoven: Symphony No. 7 in A Major, Op. 92: ...    237475   \n",
       "5  Songs My Mother Taught Me from Gypsy Melodie, ...    175731   \n",
       "6  Two Aquarelles (1987 Remaster): II. Gaily, but...     49225   \n",
       "7                     Enjoy the Silence - Single Mix    255246   \n",
       "\n",
       "                  trackId  trackDuration  trackPopularity  \\\n",
       "3  5x4JURaUqDOmsW8cQWfKR7       326980.0              0.0   \n",
       "4  48LZLWlKuyrcp4t0iQJeqd       485367.0             40.0   \n",
       "5  2oGjnkGZgpU3j70zbtJgzV       136160.0              0.0   \n",
       "6  4PwywCngJG2ykV2D0HG368       124026.0             12.0   \n",
       "7  1YwNlWLf8auhazSQUDQLFU       257333.0             67.0   \n",
       "\n",
       "               trackAlbum           trackArtistId  \\\n",
       "3  1F9IYEDYiv5hu3305CYYiR  0LyfQWJT6nXafLPZqxe9Of   \n",
       "4  5fpZpfJBKmG82qAvPRwZK8  2wOqMjp9TyABvtHdOSOTUS   \n",
       "5  7uQVkMjnWDvV9JEcVine7k  6n7nd5iceYpXVwcx8VPpxF   \n",
       "6  5kTtD1xA5yYPrwjEYWk5uy  0LyfQWJT6nXafLPZqxe9Of   \n",
       "7  13OoJ5Y23cdo8CDAiQwznb  762310PdDnwsDxAQxzQkfX   \n",
       "\n",
       "                                       trackFeatures  \n",
       "3  [{'danceability': 0.221, 'energy': 0.0681, 'ke...  \n",
       "4  [{'danceability': 0.423, 'energy': 0.344, 'key...  \n",
       "5  [{'danceability': 0.266, 'energy': 0.122, 'key...  \n",
       "6  [{'danceability': 0.194, 'energy': 0.132, 'key...  \n",
       "7  [{'danceability': 0.641, 'energy': 0.812, 'key...  "
      ]
     },
     "execution_count": 74,
     "metadata": {},
     "output_type": "execute_result"
    }
   ],
   "source": [
    "filtered.drop(\"trackDetails\", axis=1, inplace=True)\n",
    "filtered.head()"
   ]
  },
  {
   "cell_type": "code",
   "execution_count": 75,
   "metadata": {},
   "outputs": [
    {
     "data": {
      "text/plain": [
       "3    [{'danceability': 0.221, 'energy': 0.0681, 'ke...\n",
       "4    [{'danceability': 0.423, 'energy': 0.344, 'key...\n",
       "5    [{'danceability': 0.266, 'energy': 0.122, 'key...\n",
       "6    [{'danceability': 0.194, 'energy': 0.132, 'key...\n",
       "7    [{'danceability': 0.641, 'energy': 0.812, 'key...\n",
       "Name: trackFeatures, dtype: object"
      ]
     },
     "execution_count": 75,
     "metadata": {},
     "output_type": "execute_result"
    }
   ],
   "source": [
    "filtered.trackFeatures.head()"
   ]
  },
  {
   "cell_type": "code",
   "execution_count": 76,
   "metadata": {},
   "outputs": [],
   "source": [
    "filtered.to_pickle(folder + \"listened_filtered_raw.pkl\")\n",
    "# filtered = pd.read_pickle(\"./data/Desi_data/listened_filtered_raw.pkl\")"
   ]
  },
  {
   "cell_type": "code",
   "execution_count": 77,
   "metadata": {},
   "outputs": [],
   "source": [
    "uniques_artist_ids = filtered.trackArtistId.unique()\n",
    "artist_details = {}\n",
    "for artist in uniques_artist_ids:\n",
    "    artist_details[artist] = get_artist_data(artist)"
   ]
  },
  {
   "cell_type": "code",
   "execution_count": 78,
   "metadata": {},
   "outputs": [],
   "source": [
    "# Extract Artist Data\n",
    "artist_data = {}\n",
    "for i, row in filtered.iterrows():\n",
    "    artist_id = row[\"trackArtistId\"]\n",
    "    if artist_id not in artist_data:\n",
    "        artist_data[artist_id] = {\"name\": artist_details[artist_id][\"name\"],\n",
    "                                  \"genres\": artist_details[artist_id][\"genres\"],\n",
    "                                  \"popularity\": artist_details[artist_id][\"popularity\"],\n",
    "                                  \"followers\": artist_details[artist_id][\"followers\"][\"total\"]}"
   ]
  },
  {
   "cell_type": "code",
   "execution_count": 79,
   "metadata": {},
   "outputs": [],
   "source": [
    "with open(folder + \"artist_data.json\", \"w\") as f:\n",
    "    json.dump(artist_data, f, indent='\\t', separators=(',', ': '))"
   ]
  },
  {
   "cell_type": "code",
   "execution_count": 80,
   "metadata": {},
   "outputs": [],
   "source": [
    "# # Extract Album Data\n",
    "# album_data = {}\n",
    "# for i, row in filtered.iterrows():\n",
    "#     album_id = row[\"trackAlbum\"]\n",
    "#     if album_id not in album_data:\n",
    "#         album_details = get_track_album_data(album_id)\n",
    "#         album_data[album_id] = {\"name\": album_details[\"name\"],\n",
    "#                                 \"genres\": album_details[\"genres\"],\n",
    "#                                 \"popularity\": album_details[\"popularity\"],\n",
    "#                                 \"label\": album_details[\"label\"],\n",
    "#                                 \"total_tracks\": album_details[\"total_tracks\"],\n",
    "#                                 \"artists\": [a[\"name\"] for a in album_details[\"artists\"]],\n",
    "#                                 \"artists_id\": [a[\"id\"] for a in album_details[\"artists\"]]}"
   ]
  },
  {
   "cell_type": "code",
   "execution_count": 81,
   "metadata": {},
   "outputs": [],
   "source": [
    "# with open(folder + \"album_data.json\", \"w\") as f:\n",
    "#     json.dump(album_data, f, indent='\\t', separators=(',', ': '))"
   ]
  },
  {
   "cell_type": "code",
   "execution_count": 82,
   "metadata": {},
   "outputs": [],
   "source": [
    "# Extract only track features\n",
    "track_features = {}\n",
    "for i, row in filtered.iterrows():\n",
    "    features = row[\"trackFeatures\"]\n",
    "    track_features[row[\"trackId\"]] = {\"name\": row[\"trackName\"], \n",
    "                                      \"track_features\": features[0],\n",
    "#                                       \"album_genres\": album_data[row[\"trackAlbum\"]][\"genres\"],\n",
    "                                      \"artist_genres\": artist_data[row[\"trackArtistId\"]][\"genres\"]}"
   ]
  },
  {
   "cell_type": "code",
   "execution_count": 83,
   "metadata": {},
   "outputs": [],
   "source": [
    "with open(folder + \"track_data.json\", \"w\") as f:\n",
    "    json.dump(track_features, f, indent='\\t', separators=(',', ': '))"
   ]
  },
  {
   "cell_type": "code",
   "execution_count": 84,
   "metadata": {},
   "outputs": [
    {
     "name": "stderr",
     "output_type": "stream",
     "text": [
      "/home/iivanova/anaconda3/lib/python3.7/site-packages/ipykernel_launcher.py:1: SettingWithCopyWarning: \n",
      "A value is trying to be set on a copy of a slice from a DataFrame.\n",
      "Try using .loc[row_indexer,col_indexer] = value instead\n",
      "\n",
      "See the caveats in the documentation: https://pandas.pydata.org/pandas-docs/stable/user_guide/indexing.html#returning-a-view-versus-a-copy\n",
      "  \"\"\"Entry point for launching an IPython kernel.\n"
     ]
    }
   ],
   "source": [
    "filtered[\"date\"] = filtered.endTime.apply(lambda x: x.split(\" \")[0])"
   ]
  },
  {
   "cell_type": "code",
   "execution_count": 85,
   "metadata": {},
   "outputs": [],
   "source": [
    "dataset = {}\n",
    "for i, row in filtered.iterrows():\n",
    "    data = dataset.get(row[\"date\"], [])\n",
    "    data.append({\"date\": row[\"date\"],\n",
    "                 \"artist\": row[\"artistName\"],\n",
    "                 \"track_duration\": row[\"trackDuration\"],\n",
    "                 \"artist_id\": row[\"trackArtistId\"],\n",
    "    })\n",
    "    dataset[row[\"date\"]] = data"
   ]
  },
  {
   "cell_type": "code",
   "execution_count": 86,
   "metadata": {},
   "outputs": [],
   "source": [
    "full_dataset = {}\n",
    "empty_artist = [{\"name\": \"\", \"popularity\": 0, \"id\": \"\", \"artist_duration\": 0, \"artist_genres\": []}]\n",
    "all_artists = {}\n",
    "\n",
    "for date, data in dataset.items():\n",
    "    temp = {}\n",
    "    for log in data:\n",
    "        temptemp = temp.get(log[\"artist\"], {\"duration\": 0, \"id\":\"\"})\n",
    "        temptemp[\"duration\"] += log[\"track_duration\"]\n",
    "        temptemp[\"id\"] = log[\"artist_id\"]\n",
    "        temp[log[\"artist\"]] = temptemp\n",
    "        \n",
    "    total = sum(list([data[\"duration\"] for artist, data in temp.items()]))\n",
    "    artists = list([{\"name\": artist,\n",
    "                     \"popularity\": artist_data[data[\"id\"]][\"popularity\"],\n",
    "                     \"id\": data[\"id\"],\n",
    "                     \"artist_duration\": data[\"duration\"],\n",
    "                     \"artist_genres\": artist_data[data[\"id\"]][\"genres\"],\n",
    "                    } for artist, data in temp.items()])\n",
    "    artists = sorted(artists, key=lambda x: x[\"artist_duration\"], reverse=True)\n",
    "    \n",
    "    for i, artist in enumerate(artists):\n",
    "        artist[\"rank\"] = i+1\n",
    "    \n",
    "    for artist in artists:\n",
    "        if artist[\"name\"] not in all_artists:\n",
    "            all_artists[artist[\"name\"]] = {\n",
    "                \"name\": artist[\"name\"],\n",
    "                \"popularity\": artist[\"popularity\"],\n",
    "                \"id\": artist[\"id\"],\n",
    "                \"artist_duration\": artist[\"artist_duration\"],\n",
    "                \"artist_genres\": artist[\"artist_genres\"],\n",
    "                \n",
    "            }\n",
    "            continue\n",
    "        prev = all_artists[artist[\"name\"]]\n",
    "        prev[\"artist_duration\"] += artist[\"artist_duration\"]\n",
    "        all_artists[artist[\"name\"]] = prev\n",
    "      \n",
    "    if (20 - len(artists) > 0):\n",
    "        artists.extend(empty_artist * (20 - len(artists)))\n",
    "    \n",
    "    full_dataset[date] = {\n",
    "        \"date\": date,\n",
    "        \"full_day_duration\": total,\n",
    "        \"artists\": artists,\n",
    "    }"
   ]
  },
  {
   "cell_type": "code",
   "execution_count": 87,
   "metadata": {},
   "outputs": [],
   "source": [
    "from datetime import date, timedelta\n",
    "all_days = sorted(full_dataset.keys())\n",
    "\n",
    "start = all_days[0].split(\"-\")\n",
    "end = all_days[-1].split(\"-\")\n",
    "\n",
    "start = date(int(start[0]), int(start[1]), int(start[2]))\n",
    "end = date(int(end[0]), int(end[1]), int(end[2]))"
   ]
  },
  {
   "cell_type": "code",
   "execution_count": 88,
   "metadata": {},
   "outputs": [],
   "source": [
    "all_dates = pd.date_range(start, end - timedelta(days=1), freq='d')"
   ]
  },
  {
   "cell_type": "code",
   "execution_count": 89,
   "metadata": {},
   "outputs": [],
   "source": [
    "for d in all_dates:\n",
    "    if d.strftime(\"%Y-%m-%d\") not in full_dataset:\n",
    "        full_dataset[d.strftime(\"%Y-%m-%d\")] = {\n",
    "            \"date\": d.strftime(\"%Y-%m-%d\"),\n",
    "            \"full_day_duration\": 0,\n",
    "            \"artists\": []}"
   ]
  },
  {
   "cell_type": "code",
   "execution_count": 90,
   "metadata": {},
   "outputs": [],
   "source": [
    "from collections import OrderedDict\n",
    "full_dataset = OrderedDict(sorted(full_dataset.items()))"
   ]
  },
  {
   "cell_type": "code",
   "execution_count": 91,
   "metadata": {},
   "outputs": [],
   "source": [
    "with open(folder + \"processed_filtered_dataset.json\", \"w\") as f:\n",
    "    json.dump(full_dataset, f, indent='\\t', separators=(',', ': '))"
   ]
  },
  {
   "cell_type": "code",
   "execution_count": 92,
   "metadata": {},
   "outputs": [],
   "source": [
    "sorted_all_artists = sorted(all_artists.values(), key=lambda x: x[\"artist_duration\"], reverse=True)\n",
    "for i, artist in enumerate(sorted_all_artists):\n",
    "    artist[\"rank\"] = i+1\n",
    "    \n",
    "with open(folder + \"top_artists.json\", \"w\") as f:\n",
    "    json.dump(sorted_all_artists, f, indent='\\t', separators=(',', ': '))"
   ]
  }
 ],
 "metadata": {
  "kernelspec": {
   "display_name": "Python 3",
   "language": "python",
   "name": "python3"
  },
  "language_info": {
   "codemirror_mode": {
    "name": "ipython",
    "version": 3
   },
   "file_extension": ".py",
   "mimetype": "text/x-python",
   "name": "python",
   "nbconvert_exporter": "python",
   "pygments_lexer": "ipython3",
   "version": "3.7.3"
  }
 },
 "nbformat": 4,
 "nbformat_minor": 4
}
