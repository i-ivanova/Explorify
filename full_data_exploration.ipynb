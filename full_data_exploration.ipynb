{
 "cells": [
  {
   "cell_type": "code",
   "execution_count": 2,
   "id": "0843cca5-d2e9-45c1-b8b2-b8368486a0b4",
   "metadata": {},
   "outputs": [],
   "source": [
    "import json\n",
    "import pandas as pd\n",
    "import numpy as np\n",
    "import matplotlib.pyplot as plt\n",
    "import networkx as nx\n",
    "import re\n",
    "import glob\n",
    "\n",
    "from datetime import datetime, timedelta\n",
    "from operator import itemgetter\n",
    "from pprint import pprint\n",
    "from itertools import combinations"
   ]
  },
  {
   "cell_type": "code",
   "execution_count": 11,
   "id": "b9072af6-91ba-4575-84f3-c3369c329841",
   "metadata": {},
   "outputs": [],
   "source": [
    "files = glob.glob(\"FullData/endsong_*.json\")\n",
    "data = []\n",
    "for file in files:\n",
    "    with open(\"FullData/endsong_0.json\", mode=\"r\", encoding=\"utf-8\") as f:\n",
    "        data += json.loads(f.read())\n",
    "    \n",
    "df = pd.DataFrame(data)\n",
    "df.ts = pd.to_datetime(df.ts)"
   ]
  },
  {
   "cell_type": "code",
   "execution_count": 17,
   "id": "f74de064-a343-4fa7-8708-72f9fa0f2c8d",
   "metadata": {},
   "outputs": [
    {
     "data": {
      "text/plain": [
       "(602, 21)"
      ]
     },
     "execution_count": 17,
     "metadata": {},
     "output_type": "execute_result"
    }
   ],
   "source": [
    "# df.sort_values(by=\"ts\")[200000:200020]\n",
    "df.nunique()\n",
    "# df[[\"ts\", \"offline_timestamp\"]].nunique()\n",
    "df_copy = df[:]\n",
    "\n",
    "# df_copy.drop_duplicates().sort_values(by=\"ts\", ascending=False)[10:40]\n",
    "df[df.ts.dt.year == 2021].drop_duplicates().shape"
   ]
  }
 ],
 "metadata": {
  "kernelspec": {
   "display_name": "Python 3 (ipykernel)",
   "language": "python",
   "name": "python3"
  },
  "language_info": {
   "codemirror_mode": {
    "name": "ipython",
    "version": 3
   },
   "file_extension": ".py",
   "mimetype": "text/x-python",
   "name": "python",
   "nbconvert_exporter": "python",
   "pygments_lexer": "ipython3",
   "version": "3.9.1"
  }
 },
 "nbformat": 4,
 "nbformat_minor": 5
}
